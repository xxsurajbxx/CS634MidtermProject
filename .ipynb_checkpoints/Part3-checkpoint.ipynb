{
 "cells": [
  {
   "cell_type": "code",
   "execution_count": 1,
   "id": "7802907b",
   "metadata": {},
   "outputs": [],
   "source": [
    "import pandas as pd\n",
    "from mlxtend.frequent_patterns import apriori, association_rules\n",
    "from mlxtend.preprocessing import TransactionEncoder\n",
    "import ast"
   ]
  },
  {
   "cell_type": "code",
   "execution_count": 2,
   "id": "5cec8453",
   "metadata": {},
   "outputs": [],
   "source": [
    "file_path = './DicksSportingGoods.csv'"
   ]
  },
  {
   "cell_type": "code",
   "execution_count": 3,
   "id": "960fe15f",
   "metadata": {},
   "outputs": [],
   "source": [
    "df = pd.read_csv(file_path)\n",
    "transactions = df['Items Bought'].apply(ast.literal_eval).tolist()"
   ]
  },
  {
   "cell_type": "code",
   "execution_count": 4,
   "id": "13ecce9d",
   "metadata": {},
   "outputs": [],
   "source": [
    "encoder = TransactionEncoder()\n",
    "formatted_data = pd.DataFrame(encoder.fit(transactions).transform(transactions), columns=encoder.columns_)"
   ]
  },
  {
   "cell_type": "code",
   "execution_count": 5,
   "id": "b9272f98",
   "metadata": {},
   "outputs": [
    {
     "name": "stdout",
     "output_type": "stream",
     "text": [
      "Basketball implies Basketball Shoes with 0.5 confidence\n",
      "Basketball Shoes implies Basketball with 0.6666666666666667 confidence\n",
      "Basketball implies Gatorade Bottle with 0.5 confidence\n",
      "Basketball implies Protein Powder with 0.25 confidence\n",
      "Protein Powder implies Basketball with 0.25 confidence\n",
      "Basketball Shoes implies Gatorade Bottle with 0.6666666666666667 confidence\n",
      "Protein Powder implies Electrolyte Gels with 0.5 confidence\n",
      "Electrolyte Gels implies Protein Powder with 0.4 confidence\n",
      "Running Shoes implies Electrolyte Gels with 0.8 confidence\n",
      "Electrolyte Gels implies Running Shoes with 0.8 confidence\n",
      "Protein Powder implies Gatorade Bottle with 0.25 confidence\n",
      "Running Shoes implies Gatorade Bottle with 0.4 confidence\n",
      "Swim Cap implies Gatorade Bottle with 0.5 confidence\n",
      "Swim Goggles implies Gatorade Bottle with 0.5 confidence\n",
      "Golf Shoes implies Golf Balls with 1.0 confidence\n",
      "Golf Balls implies Golf Shoes with 1.0 confidence\n",
      "Protein Powder implies Running Shoes with 0.25 confidence\n",
      "Swim Cap implies Swim Goggles with 0.7499999999999999 confidence\n",
      "Swim Goggles implies Swim Cap with 0.7499999999999999 confidence\n",
      "('Basketball', 'Gatorade Bottle') implies Basketball Shoes with 0.5 confidence\n",
      "('Basketball', 'Basketball Shoes') implies Gatorade Bottle with 0.5 confidence\n",
      "('Gatorade Bottle', 'Basketball Shoes') implies Basketball with 0.5 confidence\n",
      "Basketball implies ('Gatorade Bottle', 'Basketball Shoes') with 0.25 confidence\n",
      "Basketball Shoes implies ('Basketball', 'Gatorade Bottle') with 0.33333333333333337 confidence\n",
      "('Running Shoes', 'Gatorade Bottle') implies Electrolyte Gels with 0.5 confidence\n",
      "('Running Shoes', 'Electrolyte Gels') implies Gatorade Bottle with 0.25 confidence\n",
      "('Gatorade Bottle', 'Electrolyte Gels') implies Running Shoes with 1.0 confidence\n",
      "('Running Shoes', 'Protein Powder') implies Electrolyte Gels with 1.0 confidence\n",
      "('Running Shoes', 'Electrolyte Gels') implies Protein Powder with 0.25 confidence\n",
      "('Protein Powder', 'Electrolyte Gels') implies Running Shoes with 0.5 confidence\n",
      "Protein Powder implies ('Running Shoes', 'Electrolyte Gels') with 0.25 confidence\n",
      "('Gatorade Bottle', 'Swim Cap') implies Swim Goggles with 0.5 confidence\n",
      "('Gatorade Bottle', 'Swim Goggles') implies Swim Cap with 0.5 confidence\n",
      "('Swim Cap', 'Swim Goggles') implies Gatorade Bottle with 0.33333333333333337 confidence\n",
      "Swim Cap implies ('Gatorade Bottle', 'Swim Goggles') with 0.25 confidence\n",
      "Swim Goggles implies ('Gatorade Bottle', 'Swim Cap') with 0.25 confidence\n"
     ]
    }
   ],
   "source": [
    "# calls the Apriori Algorithm and outputs the association rules\n",
    "frequent_itemsets = apriori(formatted_data, min_support=0.05, use_colnames=True)\n",
    "rules = association_rules(frequent_itemsets, metric=\"confidence\", min_threshold=0.25)\n",
    "for t, rule in rules.iterrows():\n",
    "    printstr = ''\n",
    "    if len(rule['antecedents']) == 1:\n",
    "        printstr += tuple(rule['antecedents'])[0]\n",
    "    else:\n",
    "        printstr += str(tuple(rule['antecedents']))\n",
    "    \n",
    "    printstr += ' implies '\n",
    "    \n",
    "    if len(rule['consequents']) == 1:\n",
    "        printstr += tuple(rule['consequents'])[0]\n",
    "    else:\n",
    "        printstr += str(tuple(rule['consequents']))\n",
    "    printstr += f\" with {rule['confidence']} confidence\"\n",
    "    print(printstr)"
   ]
  }
 ],
 "metadata": {
  "kernelspec": {
   "display_name": "Python 3 (ipykernel)",
   "language": "python",
   "name": "python3"
  },
  "language_info": {
   "codemirror_mode": {
    "name": "ipython",
    "version": 3
   },
   "file_extension": ".py",
   "mimetype": "text/x-python",
   "name": "python",
   "nbconvert_exporter": "python",
   "pygments_lexer": "ipython3",
   "version": "3.11.5"
  }
 },
 "nbformat": 4,
 "nbformat_minor": 5
}
