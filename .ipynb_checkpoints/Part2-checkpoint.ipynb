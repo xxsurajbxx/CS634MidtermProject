{
 "cells": [
  {
   "cell_type": "code",
   "execution_count": 3,
   "id": "8a5d15c8",
   "metadata": {},
   "outputs": [],
   "source": [
    "import pandas as pd\n",
    "import itertools"
   ]
  },
  {
   "cell_type": "code",
   "execution_count": 4,
   "id": "14808460",
   "metadata": {},
   "outputs": [],
   "source": [
    "def findFrequentItemsets(transactions, itemsets, minSupport):\n",
    "    frequentItemsets = {}\n",
    "    for itemset in itemsets.keys():\n",
    "            # counts the number of times that the itemset can be found in the transactions array\n",
    "            for transaction in transactions:\n",
    "                if isinstance(itemset, str):\n",
    "                    if itemset in set(transaction):\n",
    "                        itemsets[itemset] += 1\n",
    "                elif set(itemset).issubset(set(transaction)):\n",
    "                    itemsets[itemset] += 1\n",
    "            # check to see if it is frequent or not. if it is then add the itemset to the frequent sets array\n",
    "            support = itemsets[itemset]/len(transactions)\n",
    "            if support >= minSupport:\n",
    "                frequentItemsets[itemset] = support\n",
    "    return frequentItemsets"
   ]
  },
  {
   "cell_type": "code",
   "execution_count": 14,
   "id": "427e1b9e",
   "metadata": {},
   "outputs": [],
   "source": [
    "class AssociationRule:\n",
    "    def __init__(self, a, b, confidence):\n",
    "        self.a = a\n",
    "        self.b = b\n",
    "        self.confidence = confidence\n",
    "    def __str__(self):\n",
    "        retstr = ''\n",
    "        if len(self.a)==1:\n",
    "            retstr+=self.a[0]\n",
    "        else:\n",
    "            retstr+=str(self.a)\n",
    "        retstr += \" implies \"\n",
    "        if len(self.b)==1:\n",
    "            retstr+=self.b[0]\n",
    "        else:\n",
    "            retstr+=str(self.b)\n",
    "        retstr+=f' with {self.confidence} confidence'\n",
    "        return retstr"
   ]
  },
  {
   "cell_type": "code",
   "execution_count": 15,
   "id": "a9118185",
   "metadata": {},
   "outputs": [],
   "source": [
    "def generateAssociationRules(frequentItemsets, minConfidence):\n",
    "    associationRules = set()\n",
    "    for itemSet in frequentItemsets.keys():\n",
    "        if not isinstance(itemSet, str):\n",
    "            #here instead of iterating through each item, i need to iterate through each combination of items in the itemset\n",
    "            #for example, if there is a itemset with 3 items, it should try to see if 2 items imply the other\n",
    "            for item in itemSet:\n",
    "                confidence = frequentItemsets[itemSet]/frequentItemsets[item]\n",
    "                if confidence >= minConfidence:\n",
    "                    associationRules.add(AssociationRule(item, tuple(set(itemSet)-set([item])), confidence))\n",
    "    return associationRules"
   ]
  },
  {
   "cell_type": "code",
   "execution_count": 7,
   "id": "7ac4d57c",
   "metadata": {},
   "outputs": [],
   "source": [
    "# transactions should be a 2 dimensional array of all the transactions\n",
    "# min support and min confidence should be as a decimal, not a percentage\n",
    "def bruteForce(transactions, minSupport, minConfidence):\n",
    "    frequentSets = {}\n",
    "    items = set()\n",
    "    for transaction in transactions:\n",
    "        for item in transaction:\n",
    "            items.add(item)\n",
    "    k = 1\n",
    "    itemsets = {item: 0 for item in items}\n",
    "    while True:\n",
    "        f = findFrequentItemsets(transactions, itemsets, minSupport)\n",
    "        if len(f.keys()) == 0:\n",
    "            break\n",
    "        frequentSets.update(f)\n",
    "        k+=1\n",
    "        itemsets = {item: 0 for item in set(itertools.combinations(items, k))}\n",
    "    return generateAssociationRules(frequentSets, minConfidence)\n",
    "    # do the confidence equations for all the combinations and return the association rules"
   ]
  },
  {
   "cell_type": "code",
   "execution_count": 16,
   "id": "9b2d78a6",
   "metadata": {},
   "outputs": [
    {
     "name": "stdout",
     "output_type": "stream",
     "text": [
      "Running Shoes implies Electrolyte Gels with 0.8 confidence\n",
      "Basketball implies Gatorade Bottle with 0.5 confidence\n",
      "Protein Powder implies Gatorade Bottle with 0.25 confidence\n",
      "Running Shoes implies Gatorade Bottle with 0.4 confidence\n",
      "Swim Goggles implies Gatorade Bottle with 0.5 confidence\n",
      "Swim Cap implies Gatorade Bottle with 0.5 confidence\n",
      "Protein Powder implies ('Running Shoes', 'Electrolyte Gels') with 0.25 confidence\n",
      "Protein Powder implies Electrolyte Gels with 0.5 confidence\n",
      "Swim Goggles implies ('Gatorade Bottle', 'Swim Cap') with 0.25 confidence\n",
      "Swim Cap implies ('Swim Goggles', 'Gatorade Bottle') with 0.25 confidence\n",
      "Basketball Shoes implies ('Basketball', 'Gatorade Bottle') with 0.33333333333333337 confidence\n",
      "Protein Powder implies Basketball with 0.25 confidence\n",
      "Basketball implies ('Gatorade Bottle', 'Basketball Shoes') with 0.25 confidence\n",
      "Basketball implies Protein Powder with 0.25 confidence\n",
      "Golf Shoes implies Golf Balls with 1.0 confidence\n",
      "Electrolyte Gels implies Protein Powder with 0.4 confidence\n",
      "Golf Balls implies Golf Shoes with 1.0 confidence\n",
      "Protein Powder implies Running Shoes with 0.25 confidence\n",
      "Basketball Shoes implies Basketball with 0.6666666666666667 confidence\n",
      "Swim Cap implies Swim Goggles with 0.7499999999999999 confidence\n",
      "Basketball implies Basketball Shoes with 0.5 confidence\n",
      "Swim Goggles implies Swim Cap with 0.7499999999999999 confidence\n",
      "Basketball Shoes implies Gatorade Bottle with 0.6666666666666667 confidence\n",
      "Electrolyte Gels implies Running Shoes with 0.8 confidence\n"
     ]
    }
   ],
   "source": [
    "i = bruteForce([\n",
    "  ['Basketball', 'Basketball Shoes', 'Gatorade Bottle'],\n",
    "  ['Swim Cap', 'Swim Goggles'],\n",
    "  ['Running Shoes', 'Electrolyte Gels', 'Gatorade Bottle'],\n",
    "  ['Golf Balls', 'Golf Shoes'],\n",
    "  ['Protein Powder', 'Electrolyte Gels'],\n",
    "  ['Basketball', 'Gatorade Bottle'],\n",
    "  ['Running Shoes', 'Gatorade Bottle'],\n",
    "  ['Swim Cap', 'Swim Goggles'],\n",
    "  ['Swim Cap', 'Gatorade Bottle'],\n",
    "  ['Swim Goggles', 'Gatorade Bottle'],\n",
    "  ['Basketball Shoes', 'Gatorade Bottle'],\n",
    "  ['Golf Shoes', 'Golf Balls'],\n",
    "  ['Running Shoes', 'Protein Powder', 'Electrolyte Gels'],\n",
    "  ['Basketball', 'Basketball Shoes'],\n",
    "  ['Running Shoes', 'Electrolyte Gels'],\n",
    "  ['Swim Cap', 'Swim Goggles', 'Gatorade Bottle'],\n",
    "  ['Golf Shoes', 'Golf Balls'],\n",
    "  ['Protein Powder', 'Gatorade Bottle'],\n",
    "  ['Basketball', 'Protein Powder'],\n",
    "  ['Running Shoes', 'Electrolyte Gels']\n",
    "], 0.05, 0.25)\n",
    "\n",
    "for rule in i:\n",
    "    print(rule)"
   ]
  }
 ],
 "metadata": {
  "kernelspec": {
   "display_name": "Python 3 (ipykernel)",
   "language": "python",
   "name": "python3"
  },
  "language_info": {
   "codemirror_mode": {
    "name": "ipython",
    "version": 3
   },
   "file_extension": ".py",
   "mimetype": "text/x-python",
   "name": "python",
   "nbconvert_exporter": "python",
   "pygments_lexer": "ipython3",
   "version": "3.11.5"
  }
 },
 "nbformat": 4,
 "nbformat_minor": 5
}
