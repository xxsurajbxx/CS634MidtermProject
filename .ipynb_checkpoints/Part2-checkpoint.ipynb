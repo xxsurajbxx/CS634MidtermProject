{
 "cells": [
  {
   "cell_type": "code",
   "execution_count": 1,
   "id": "8a5d15c8",
   "metadata": {},
   "outputs": [],
   "source": [
    "import pandas as pd\n",
    "import itertools\n",
    "import ast"
   ]
  },
  {
   "cell_type": "code",
   "execution_count": 2,
   "id": "14808460",
   "metadata": {},
   "outputs": [],
   "source": [
    "def findFrequentItemsets(transactions, itemsets, minSupport):\n",
    "    frequentItemsets = {}\n",
    "    for itemset in itemsets.keys():\n",
    "            # counts the number of times that the itemset can be found in the transactions array\n",
    "            for transaction in transactions:\n",
    "                if isinstance(itemset, str):\n",
    "                    if itemset in set(transaction):\n",
    "                        itemsets[itemset] += 1\n",
    "                elif set(itemset).issubset(set(transaction)):\n",
    "                    itemsets[itemset] += 1\n",
    "            # check to see if it is frequent or not. if it is then add the itemset to the frequent sets array\n",
    "            support = itemsets[itemset]/len(transactions)\n",
    "            if support >= minSupport:\n",
    "                frequentItemsets[itemset] = support\n",
    "    return frequentItemsets"
   ]
  },
  {
   "cell_type": "code",
   "execution_count": 3,
   "id": "427e1b9e",
   "metadata": {},
   "outputs": [],
   "source": [
    "class AssociationRule:\n",
    "    def __init__(self, a, b, confidence):\n",
    "        self.a = a\n",
    "        self.b = b\n",
    "        self.confidence = confidence\n",
    "    def __str__(self):\n",
    "        retstr = ''\n",
    "        if len(self.a)==1:\n",
    "            retstr+=self.a[0]\n",
    "        else:\n",
    "            retstr+=str(self.a)\n",
    "        retstr += \" implies \"\n",
    "        if len(self.b)==1:\n",
    "            retstr+=self.b[0]\n",
    "        else:\n",
    "            retstr+=str(self.b)\n",
    "        retstr+=f' with {self.confidence} confidence'\n",
    "        return retstr"
   ]
  },
  {
   "cell_type": "code",
   "execution_count": 15,
   "id": "a9118185",
   "metadata": {},
   "outputs": [],
   "source": [
    "def generateAssociationRules(frequentItemsets, minConfidence):\n",
    "    associationRules = set()\n",
    "    for itemSet in frequentItemsets.keys():\n",
    "        if not isinstance(itemSet, str):\n",
    "            sets = []\n",
    "            for i in range(1, len(itemSet)):\n",
    "                sets.extend(list(itertools.combinations(itemSet, i)))\n",
    "            for s in sets:\n",
    "                confidence = 0\n",
    "                if len(s)==1:\n",
    "                    confidence = frequentItemsets[itemSet]/frequentItemsets[s[0]]\n",
    "                else:\n",
    "                    confidence = frequentItemsets[itemSet]/frequentItemsets[s]\n",
    "                if confidence >= minConfidence:\n",
    "                    associationRules.add(AssociationRule(s, tuple(set(itemSet)-set(list(s))), confidence))\n",
    "    return associationRules"
   ]
  },
  {
   "cell_type": "code",
   "execution_count": 5,
   "id": "7ac4d57c",
   "metadata": {},
   "outputs": [],
   "source": [
    "# transactions should be a 2 dimensional array of all the transactions\n",
    "# min support and min confidence should be as a decimal, not a percentage\n",
    "def bruteForce(transactions, minSupport, minConfidence):\n",
    "    frequentSets = {}\n",
    "    items = set()\n",
    "    for transaction in transactions:\n",
    "        for item in transaction:\n",
    "            items.add(item)\n",
    "    k = 1\n",
    "    itemsets = {item: 0 for item in items}\n",
    "    while True:\n",
    "        f = findFrequentItemsets(transactions, itemsets, minSupport)\n",
    "        if len(f.keys()) == 0:\n",
    "            break\n",
    "        frequentSets.update(f)\n",
    "        k+=1\n",
    "        itemsets = {item: 0 for item in set(itertools.combinations(items, k))}\n",
    "    return generateAssociationRules(frequentSets, minConfidence)\n",
    "    # do the confidence equations for all the combinations and return the association rules"
   ]
  },
  {
   "cell_type": "code",
   "execution_count": 16,
   "id": "9b2d78a6",
   "metadata": {},
   "outputs": [
    {
     "name": "stdout",
     "output_type": "stream",
     "text": [
      "Golf Shoes implies Golf Balls with 1.0 confidence\n",
      "Golf Balls implies Golf Shoes with 1.0 confidence\n",
      "('Basketball', 'Basketball Shoes') implies Gatorade Bottle with 0.5 confidence\n",
      "Electrolyte Gels implies Running Shoes with 0.8 confidence\n",
      "('Basketball', 'Gatorade Bottle') implies Basketball Shoes with 0.5 confidence\n",
      "Protein Powder implies Gatorade Bottle with 0.25 confidence\n",
      "Basketball Shoes implies ('Basketball', 'Gatorade Bottle') with 0.33333333333333337 confidence\n",
      "Basketball implies ('Gatorade Bottle', 'Basketball Shoes') with 0.25 confidence\n",
      "Basketball Shoes implies Gatorade Bottle with 0.6666666666666667 confidence\n",
      "('Gatorade Bottle', 'Swim Goggles') implies Swim Cap with 0.5 confidence\n",
      "('Swim Cap', 'Swim Goggles') implies Gatorade Bottle with 0.33333333333333337 confidence\n",
      "Basketball implies Protein Powder with 0.25 confidence\n",
      "Protein Powder implies Basketball with 0.25 confidence\n",
      "Running Shoes implies Electrolyte Gels with 0.8 confidence\n",
      "('Swim Cap', 'Gatorade Bottle') implies Swim Goggles with 0.5 confidence\n",
      "Swim Cap implies ('Gatorade Bottle', 'Swim Goggles') with 0.25 confidence\n",
      "Swim Goggles implies ('Swim Cap', 'Gatorade Bottle') with 0.25 confidence\n",
      "('Gatorade Bottle', 'Running Shoes') implies Electrolyte Gels with 0.5 confidence\n",
      "('Gatorade Bottle', 'Basketball Shoes') implies Basketball with 0.5 confidence\n",
      "('Electrolyte Gels', 'Running Shoes') implies Gatorade Bottle with 0.25 confidence\n",
      "('Electrolyte Gels', 'Gatorade Bottle') implies Running Shoes with 1.0 confidence\n",
      "Protein Powder implies Electrolyte Gels with 0.5 confidence\n",
      "Electrolyte Gels implies Protein Powder with 0.4 confidence\n",
      "('Running Shoes', 'Protein Powder') implies Electrolyte Gels with 1.0 confidence\n",
      "('Electrolyte Gels', 'Running Shoes') implies Protein Powder with 0.25 confidence\n",
      "('Electrolyte Gels', 'Protein Powder') implies Running Shoes with 0.5 confidence\n",
      "Protein Powder implies ('Electrolyte Gels', 'Running Shoes') with 0.25 confidence\n",
      "Basketball Shoes implies Basketball with 0.6666666666666667 confidence\n",
      "Basketball implies Basketball Shoes with 0.5 confidence\n",
      "Swim Goggles implies Swim Cap with 0.7499999999999999 confidence\n",
      "Basketball implies Gatorade Bottle with 0.5 confidence\n",
      "Swim Cap implies Gatorade Bottle with 0.5 confidence\n",
      "Swim Goggles implies Gatorade Bottle with 0.5 confidence\n",
      "Swim Cap implies Swim Goggles with 0.7499999999999999 confidence\n",
      "Protein Powder implies Running Shoes with 0.25 confidence\n",
      "Running Shoes implies Gatorade Bottle with 0.4 confidence\n"
     ]
    }
   ],
   "source": [
    "file_path = './DicksSportingGoods.csv'\n",
    "df = pd.read_csv(file_path)\n",
    "transactions = df['Items Bought'].apply(ast.literal_eval).tolist()\n",
    "bruteForce(transactions, 0.05, 0.25)\n",
    "for rule in bruteForce(transactions, 0.05, 0.25):\n",
    "    print(rule)"
   ]
  }
 ],
 "metadata": {
  "kernelspec": {
   "display_name": "Python 3 (ipykernel)",
   "language": "python",
   "name": "python3"
  },
  "language_info": {
   "codemirror_mode": {
    "name": "ipython",
    "version": 3
   },
   "file_extension": ".py",
   "mimetype": "text/x-python",
   "name": "python",
   "nbconvert_exporter": "python",
   "pygments_lexer": "ipython3",
   "version": "3.11.5"
  }
 },
 "nbformat": 4,
 "nbformat_minor": 5
}
