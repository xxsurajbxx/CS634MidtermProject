{
 "cells": [
  {
   "cell_type": "code",
   "execution_count": 55,
   "id": "8a5d15c8",
   "metadata": {},
   "outputs": [],
   "source": [
    "import pandas as pd\n",
    "import itertools"
   ]
  },
  {
   "cell_type": "code",
   "execution_count": 81,
   "id": "14808460",
   "metadata": {},
   "outputs": [],
   "source": [
    "def findFrequentItemsets(transactions, itemsets, minSupport):\n",
    "    frequentItemsets = {}\n",
    "    for itemset in itemsets.keys():\n",
    "            # counts the number of times that the itemset can be found in the transactions array\n",
    "            for transaction in transactions:\n",
    "                if isinstance(itemset, str):\n",
    "                    if itemset in set(transaction):\n",
    "                        itemsets[itemset] += 1\n",
    "                elif set(itemset).issubset(set(transaction)):\n",
    "                    itemsets[itemset] += 1\n",
    "            # check to see if it is frequent or not. if it is then add the itemset to the frequent sets array\n",
    "            support = itemsets[itemset]/len(transactions)\n",
    "            if support >= minSupport:\n",
    "                frequentItemsets[itemset] = support\n",
    "    return frequentItemsets"
   ]
  },
  {
   "cell_type": "code",
   "execution_count": 58,
   "id": "427e1b9e",
   "metadata": {},
   "outputs": [],
   "source": [
    "class AssociationRule:\n",
    "    def __init__(self, a, b, confidence):\n",
    "        self.a = a\n",
    "        self.b = b\n",
    "        self.confidence = confidence\n",
    "    def __str__(self):\n",
    "        return f'{self.a} implies {self.b} with {self.confidence} confidence'"
   ]
  },
  {
   "cell_type": "code",
   "execution_count": 59,
   "id": "a9118185",
   "metadata": {},
   "outputs": [],
   "source": [
    "def generateAssociationRules(frequentItemsets, minConfidence):\n",
    "    associationRules = set()\n",
    "    for itemSet in frequentItemsets.keys():\n",
    "        if not isinstance(itemSet, str):\n",
    "            for item in itemSet:\n",
    "                confidence = frequentItemsets[itemSet]/frequentItemsets[item]\n",
    "                if confidence > minConfidence:\n",
    "                    associationRules.add(AssociationRule(item, tuple(set(itemSet)-set([item])), confidence))\n",
    "    return associationRules"
   ]
  },
  {
   "cell_type": "code",
   "execution_count": 90,
   "id": "7ac4d57c",
   "metadata": {},
   "outputs": [],
   "source": [
    "# transactions should be a 2 dimensional array of all the transactions\n",
    "# min support and min confidence should be as a decimal, not a percentage\n",
    "def bruteForce(transactions, minSupport, minConfidence):\n",
    "    frequentSets = {}\n",
    "    items = set()\n",
    "    for transaction in transactions:\n",
    "        for item in transaction:\n",
    "            items.add(item)\n",
    "    k = 1\n",
    "    itemsets = {item: 0 for item in items}\n",
    "    while True:\n",
    "        \n",
    "        f = findFrequentItemsets(transactions, itemsets, minSupport)\n",
    "        if len(f.keys()) == 0:\n",
    "            break\n",
    "        frequentSets.update(f)\n",
    "        k+=1\n",
    "        itemsets = {item: 0 for item in set(itertools.combinations(items, k))}\n",
    "    return generateAssociationRules(frequentSets, minConfidence)\n",
    "    # do the confidence equations for all the combinations and return the association rules"
   ]
  },
  {
   "cell_type": "code",
   "execution_count": 91,
   "id": "9b2d78a6",
   "metadata": {},
   "outputs": [
    {
     "name": "stdout",
     "output_type": "stream",
     "text": [
      "Electrolyte Gels implies ('Running Shoes',) with 0.8 confidence\n",
      "Basketball Shoes implies ('Gatorade Bottle',) with 0.6666666666666667 confidence\n",
      "Basketball Shoes implies ('Basketball',) with 0.6666666666666667 confidence\n",
      "Swim Cap implies ('Swim Goggles',) with 0.7499999999999999 confidence\n",
      "Golf Balls implies ('Golf Shoes',) with 1.0 confidence\n",
      "Swim Goggles implies ('Swim Cap',) with 0.7499999999999999 confidence\n",
      "Running Shoes implies ('Electrolyte Gels',) with 0.8 confidence\n",
      "Golf Shoes implies ('Golf Balls',) with 1.0 confidence\n"
     ]
    }
   ],
   "source": [
    "i = bruteForce([\n",
    "  ['Basketball', 'Basketball Shoes', 'Gatorade Bottle'],\n",
    "  ['Swim Cap', 'Swim Goggles'],\n",
    "  ['Running Shoes', 'Electrolyte Gels', 'Gatorade Bottle'],\n",
    "  ['Golf Balls', 'Golf Shoes'],\n",
    "  ['Protein Powder', 'Electrolyte Gels'],\n",
    "  ['Basketball', 'Gatorade Bottle'],\n",
    "  ['Running Shoes', 'Gatorade Bottle'],\n",
    "  ['Swim Cap', 'Swim Goggles'],\n",
    "  ['Swim Cap', 'Gatorade Bottle'],\n",
    "  ['Swim Goggles', 'Gatorade Bottle'],\n",
    "  ['Basketball Shoes', 'Gatorade Bottle'],\n",
    "  ['Golf Shoes', 'Golf Balls'],\n",
    "  ['Running Shoes', 'Protein Powder', 'Electrolyte Gels'],\n",
    "  ['Basketball', 'Basketball Shoes'],\n",
    "  ['Running Shoes', 'Electrolyte Gels'],\n",
    "  ['Swim Cap', 'Swim Goggles', 'Gatorade Bottle'],\n",
    "  ['Golf Shoes', 'Golf Balls'],\n",
    "  ['Protein Powder', 'Gatorade Bottle'],\n",
    "  ['Basketball', 'Protein Powder'],\n",
    "  ['Running Shoes', 'Electrolyte Gels']\n",
    "], 0.1, 0.5)"
   ]
  }
 ],
 "metadata": {
  "kernelspec": {
   "display_name": "Python 3 (ipykernel)",
   "language": "python",
   "name": "python3"
  },
  "language_info": {
   "codemirror_mode": {
    "name": "ipython",
    "version": 3
   },
   "file_extension": ".py",
   "mimetype": "text/x-python",
   "name": "python",
   "nbconvert_exporter": "python",
   "pygments_lexer": "ipython3",
   "version": "3.11.5"
  }
 },
 "nbformat": 4,
 "nbformat_minor": 5
}
