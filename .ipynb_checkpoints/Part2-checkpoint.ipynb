{
 "cells": [
  {
   "cell_type": "code",
   "execution_count": 1,
   "id": "ff875c90",
   "metadata": {},
   "outputs": [],
   "source": [
    "import pandas as pd\n",
    "import itertools"
   ]
  },
  {
   "cell_type": "code",
   "execution_count": 2,
   "id": "ae237412",
   "metadata": {},
   "outputs": [],
   "source": [
    "#returns the candidate k-itemsets based on the previous k-1 frequent itemsets\n",
    "def generateCandidateItemsets(prevItemset, k):\n",
    "    itemSet = set()\n",
    "    for s in prevItemset:\n",
    "        for item in s:\n",
    "            itemSet.add(item)\n",
    "    candidateSet = set(itertools.combinations(itemSet, k))\n",
    "    return candidateSet"
   ]
  },
  {
   "cell_type": "code",
   "execution_count": null,
   "id": "59633ca6",
   "metadata": {},
   "outputs": [],
   "source": [
    "def findFrequentItemsets(transactions, itemsets):\n",
    "    frequentItemsets = {}\n",
    "    for itemset in itemsets.keys():\n",
    "            # counts the number of times that the itemset can be found in the transactions array\n",
    "            for transaction in transactions:\n",
    "                if itemset.issubset(set(transaction)):\n",
    "                    itemsets[itemset] += 1\n",
    "            # check to see if it is frequent or not. if it is then add the itemset to the frequent sets array\n",
    "            support = itemsets[itemset]/len(transactions)\n",
    "            if support >= minSupport:\n",
    "                frequentItemsets[itemset] = support\n",
    "    return frequentItemsets"
   ]
  },
  {
   "cell_type": "code",
   "execution_count": 2,
   "id": "912d5bcf",
   "metadata": {},
   "outputs": [],
   "source": [
    "# transactions should be a 2 dimensional array of all the transactions\n",
    "# min support and min confidence should be as a decimal, not a percentage\n",
    "def apriori(transactions, minSupport, minConfidence):\n",
    "    frequentSets = set()\n",
    "    items = set()\n",
    "    for transaction in transactions:\n",
    "        for item in transaction:\n",
    "            items.add(item)\n",
    "    k = 1\n",
    "    itemsets = {item: 0 for item in items}\n",
    "    while(len(itemsets.keys()) > 0):\n",
    "        f = findFrequentItemsets(transactions, itemsets)\n",
    "        if len(f)==0:\n",
    "            break\n",
    "        frequentSets.update(f)\n",
    "        k+=1\n",
    "        itemsets = generateCandidateItemsets(f.keys(), k)\n",
    "    # do the confidence equations for all the combinations and return the association rules"
   ]
  },
  {
   "cell_type": "code",
   "execution_count": null,
   "id": "13ccd060",
   "metadata": {},
   "outputs": [],
   "source": []
  }
 ],
 "metadata": {
  "kernelspec": {
   "display_name": "Python 3 (ipykernel)",
   "language": "python",
   "name": "python3"
  },
  "language_info": {
   "codemirror_mode": {
    "name": "ipython",
    "version": 3
   },
   "file_extension": ".py",
   "mimetype": "text/x-python",
   "name": "python",
   "nbconvert_exporter": "python",
   "pygments_lexer": "ipython3",
   "version": "3.11.5"
  }
 },
 "nbformat": 4,
 "nbformat_minor": 5
}
