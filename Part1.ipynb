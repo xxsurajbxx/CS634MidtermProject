{
 "cells": [
  {
   "cell_type": "code",
   "execution_count": 4,
   "id": "f5bea58c-a758-4ca0-bea5-a0fa29295e33",
   "metadata": {},
   "outputs": [
    {
     "name": "stdout",
     "output_type": "stream",
     "text": [
      "10\n"
     ]
    }
   ],
   "source": [
    "#items for dataset 1: Dick's Sporting Goods dataset\n",
    "db1Items = set(['Basketball', 'Basketball Shoes', 'Gatorade Bottle', 'Swim Cap', 'Swim Goggles', 'Running Shoes', 'Golf Balls', 'Golf Shoes', 'Protein Powder', 'Electrolyte Gels'])"
   ]
  },
  {
   "cell_type": "code",
   "execution_count": null,
   "id": "6f546d7c-59f6-4d45-8c12-ea64dbf7bf2a",
   "metadata": {},
   "outputs": [],
   "source": [
    "#items for dataset 2: Best Buy\n",
    "db2Items = set(['Speaker', 'Computer Mouse', 'Keyboard', 'Desktop PC', 'Smart Phone', 'TV', 'Smart Phone Charger', 'Refrigerator', 'PlayStation', 'Washing Machine'])"
   ]
  },
  {
   "cell_type": "code",
   "execution_count": null,
   "id": "2314a06c-94e1-4526-a6a8-baa5954c8a05",
   "metadata": {},
   "outputs": [],
   "source": [
    "#items for dataset 3: Home Depot\n",
    "db3Items = set(['Nails', 'Hammer', 'Wood', 'Screws', 'Seeds', 'Fertilizer', 'Shovel', 'Lawnmower', 'Oven', 'Lightbulb'])"
   ]
  },
  {
   "cell_type": "code",
   "execution_count": null,
   "id": "5d500f9c-2442-415b-bcfe-2ccd7a63cb3c",
   "metadata": {},
   "outputs": [],
   "source": [
    "#items for dataset 4: Staples\n",
    "db4Items = set(['Pencil', 'Pen', 'Notebook', 'Binder', 'Paper', 'Printer', 'Tablet', 'Eraser', 'Stapler', 'Staples'])"
   ]
  },
  {
   "cell_type": "code",
   "execution_count": 5,
   "id": "7c71abfd-77ca-4dbe-b869-fd7599d53ba6",
   "metadata": {},
   "outputs": [
    {
     "name": "stdout",
     "output_type": "stream",
     "text": [
      "10\n"
     ]
    }
   ],
   "source": [
    "#items for dataset 4: GameStop\n",
    "db4Items = set(['Guitar Hero', 'Guitar Hero Guitar', 'PlayStation Controller', 'PlayStation', 'Xbox Controller', 'Xbox', 'Uncharted 4', 'NBA 2k25', 'Halo 4', 'Smash Ultimate'])"
   ]
  }
 ],
 "metadata": {
  "kernelspec": {
   "display_name": "Python 3 (ipykernel)",
   "language": "python",
   "name": "python3"
  },
  "language_info": {
   "codemirror_mode": {
    "name": "ipython",
    "version": 3
   },
   "file_extension": ".py",
   "mimetype": "text/x-python",
   "name": "python",
   "nbconvert_exporter": "python",
   "pygments_lexer": "ipython3",
   "version": "3.10.12"
  }
 },
 "nbformat": 4,
 "nbformat_minor": 5
}
